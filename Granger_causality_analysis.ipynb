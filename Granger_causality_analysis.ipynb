{
 "cells": [
  {
   "cell_type": "code",
   "execution_count": null,
   "metadata": {},
   "outputs": [],
   "source": [
    "import pandas as pd\n",
    "#check if time series is stationary or not, using ADF test\n",
    "from statsmodels.tsa.stattools import adfuller\n",
    "from statsmodels.tsa.stattools import grangercausalitytests\n"
   ]
  },
  {
   "cell_type": "code",
   "execution_count": null,
   "metadata": {},
   "outputs": [],
   "source": [
    "dm_cog= pd.read_csv(\"Danmu_Scripts_Data/Danmu_Cog_stationized.CSV\")\n",
    "dm_emo = pd.read_csv(\"Danmu_Scripts_Data/Danmu_Emo_stationized.CSV\")\n",
    "sc_cog= pd.read_csv(\"Danmu_Scripts_Data/Scripts_Cog_stationized.CSV\")\n",
    "sc_emo = pd.read_csv(\"Danmu_Scripts_Data/Scripts_Emo_stationized.CSV\")\n",
    "#ADF test has been done on all time series\n",
    "#If the p-value > 0.05, then he ADF statistic is higher than any of the critical values. \n",
    "#There is no reason to reject the null hypothesis. So, the time series is in fact non-stationary \n",
    "# For the non-stationary time series, we need to stationanize them\n",
    "# The method to make them stationary is to calculate their first-order difference\n",
    "# first order difference = x(t)- x(t-1)\n",
    "#In these CSV files, the time series have already been made to be stationary"
   ]
  },
  {
   "cell_type": "code",
   "execution_count": null,
   "metadata": {},
   "outputs": [],
   "source": [
    "ts_sc_emo = sc_emo.iloc[:178, 4:]\n",
    "ts_sc_cog = sc_cog.iloc[:178, 4:]\n",
    "ts_dm_cog = dm_cog.iloc[:178, 4:]\n",
    "ts_dm_emo = dm_emo.iloc[:178, 4:]"
   ]
  },
  {
   "cell_type": "code",
   "execution_count": null,
   "metadata": {},
   "outputs": [],
   "source": [
    "results = []\n",
    "for i in range(178):\n",
    "    df = pd.DataFrame()\n",
    "    #scripts--> SC\n",
    "    df['SC'] = ts_sc_cog.iloc[i]\n",
    "    #danmu --> DM\n",
    "    df['DM'] = ts_dm_cog.iloc[i]\n",
    "    res = grangercausalitytests(df[['DM','SC']],maxlag=10)\n",
    "    print(i)\n",
    "    results.append(res)"
   ]
  },
  {
   "cell_type": "code",
   "execution_count": null,
   "metadata": {},
   "outputs": [],
   "source": [
    "ssr_ftests = []\n",
    "for i in range(178):\n",
    "    for l in range(1,11):\n",
    "        ssr = results[i][l][0]['ssr_ftest']\n",
    "        ssr_ftests.append(ssr)"
   ]
  },
  {
   "cell_type": "code",
   "execution_count": null,
   "metadata": {},
   "outputs": [],
   "source": [
    "movies = list(dm_cog.iloc[:178, 0])\n",
    "granger_causality = dict()\n",
    "movies_10 = [item for item in movies for i in range(10)]\n",
    "for m in movies:\n",
    "    for i in ssr_ftests:\n",
    "        granger_causality[m] = i\n",
    "    granger_causality.update(granger_causality)\n"
   ]
  }
 ],
 "metadata": {
  "kernelspec": {
   "display_name": "Python 3.8.5 ('base')",
   "language": "python",
   "name": "python3"
  },
  "language_info": {
   "name": "python",
   "version": "3.8.5"
  },
  "orig_nbformat": 4,
  "vscode": {
   "interpreter": {
    "hash": "2afdca8f70b9f9f77c5d249cdce1221fa9bba527d701426b4b260e465f8ff569"
   }
  }
 },
 "nbformat": 4,
 "nbformat_minor": 2
}
