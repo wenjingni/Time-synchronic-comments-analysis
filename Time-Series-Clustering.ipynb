{
 "cells": [
  {
   "cell_type": "markdown",
   "metadata": {},
   "source": [
    "# Time Series Clustering\n",
    "### With Soft-dtw k-means clustering algorith"
   ]
  },
  {
   "cell_type": "code",
   "execution_count": null,
   "metadata": {},
   "outputs": [],
   "source": [
    "import numpy as np\n",
    "import matplotlib.pyplot as plt\n",
    "from tqdm import tqdm\n",
    "from tslearn.clustering import TimeSeriesKMeans\n",
    "from tslearn.datasets import CachedDatasets\n",
    "from tslearn.preprocessing import TimeSeriesScalerMeanVariance, \\\n",
    "    TimeSeriesResampler\n",
    "from tslearn.utils import to_time_series\n",
    "from tslearn.utils import to_time_series_dataset\n",
    "from tslearn.clustering import silhouette_score\n",
    "import pandas as pd"
   ]
  },
  {
   "cell_type": "code",
   "execution_count": null,
   "metadata": {},
   "outputs": [],
   "source": [
    "def read_data(file):\n",
    "    time_series_data = pd.read_csv(file,sep='\\t')\n",
    "    x = np.array(time_series_data.X.astype(float))\n",
    "    y = np.array(time_series_data.Y.astype(float))\n",
    "    formatted_x = to_time_series_dataset(x)\n",
    "    formatted_y = to_time_series_dataset(y)\n",
    "    return formatted_x,formatted_y"
   ]
  },
  {
   "cell_type": "code",
   "execution_count": null,
   "metadata": {},
   "outputs": [],
   "source": [
    "def transform_data(formatted_x,formatted_y):\n",
    "    \n",
    "    X_train = formatted_x\n",
    "    np.random.shuffle(X_train)\n",
    "    X_train= TimeSeriesScalerMeanVariance().fit_transform(X_train)\n",
    "# Make time series shorter\n",
    "    X_train = TimeSeriesResampler(sz=40).fit_transform(X_train)\n",
    "    sz = X_train.shape[1]\n",
    "    return X_train, sz"
   ]
  },
  {
   "cell_type": "code",
   "execution_count": null,
   "metadata": {},
   "outputs": [],
   "source": [
    "def soft_dtw(X_train,seed):\n",
    "    print(\"Soft-DTW k-means\")\n",
    "    np.random.seed(seed)\n",
    "    model_list = []\n",
    "    silhouette_scores = []\n",
    "    ys = []\n",
    "    inertias = []\n",
    "    for cluster in tqdm(range(2,10),leave=False):\n",
    "        sdtw_km = TimeSeriesKMeans(n_clusters=cluster,\n",
    "                            metric=\"softdtw\",\n",
    "                            metric_params={\"gamma\": .01},\n",
    "                            verbose=True,\n",
    "                            random_state=seed)\n",
    "        y_pred = sdtw_km.fit_predict(X_train)\n",
    "        inertia = sdtw_km.inertia_\n",
    "        model_list.append(sdtw_km)\n",
    "        silhouette = silhouette_score(X_train, y_pred, metric = 'softdtw')\n",
    "        silhouette_scores.append(silhouette)\n",
    "        inertias.append(inertia)\n",
    "        ys.append(y_pred)\n",
    "    models = list(zip(model_list,silhouette_scores))\n",
    "    model_performance = dict((m,s) for m,s in models)\n",
    "    return model_performance,ys,inertia"
   ]
  },
  {
   "cell_type": "code",
   "execution_count": null,
   "metadata": {},
   "outputs": [],
   "source": [
    "def save_model_performance(model_performance,ys,inertia):\n",
    "    model_df = pd.DataFrame.from_dict(model_performance)\n",
    "    model_df['Inertia'] = inertia\n",
    "    ys.to_csv('YOUR_PATH')\n"
   ]
  }
 ],
 "metadata": {
  "kernelspec": {
   "display_name": "Python 3.8.5 ('base')",
   "language": "python",
   "name": "python3"
  },
  "language_info": {
   "codemirror_mode": {
    "name": "ipython",
    "version": 3
   },
   "file_extension": ".py",
   "mimetype": "text/x-python",
   "name": "python",
   "nbconvert_exporter": "python",
   "pygments_lexer": "ipython3",
   "version": "3.8.5"
  },
  "orig_nbformat": 4,
  "vscode": {
   "interpreter": {
    "hash": "2afdca8f70b9f9f77c5d249cdce1221fa9bba527d701426b4b260e465f8ff569"
   }
  }
 },
 "nbformat": 4,
 "nbformat_minor": 2
}
